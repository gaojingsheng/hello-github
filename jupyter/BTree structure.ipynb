{
 "cells": [
  {
   "cell_type": "markdown",
   "metadata": {},
   "source": [
    "# 用python实现二叉树的基本操作\n",
    "二叉树是算法常用的结构之一，掌握二叉树有利于进一步刷leetcode\n",
    "## 先定义一个二叉树的类BTree"
   ]
  },
  {
   "cell_type": "code",
   "execution_count": 10,
   "metadata": {},
   "outputs": [],
   "source": [
    "class BTree:\n",
    "    def __init__(self,value):\n",
    "        self.data = value\n",
    "        self.left = None\n",
    "        self.right = None\n",
    "    def insertLeft(self,value):\n",
    "        self.left = BTree(value)\n",
    "        return self.left\n",
    "    def insertRight(self,value):\n",
    "        self.right = BTree(value)\n",
    "        return self.right\n",
    "    def show(self):\n",
    "        print(self.data)"
   ]
  },
  {
   "cell_type": "markdown",
   "metadata": {},
   "source": [
    "## 二叉树常用的三种遍历\n",
    "* 1. 前序遍历\n",
    "* 2. 中序遍历\n",
    "* 3. 后序遍历"
   ]
  },
  {
   "cell_type": "code",
   "execution_count": 2,
   "metadata": {},
   "outputs": [],
   "source": [
    "def preOrder(node):\n",
    "    if node.data:\n",
    "        node.show()\n",
    "        if node.left:\n",
    "            preOrder(node.left)\n",
    "        if node.right:\n",
    "            preOrder(node.right)\n",
    "def midOrder(node):\n",
    "    if node.data:\n",
    "        if node.left:\n",
    "            midOrder(node.left)\n",
    "        node.show()\n",
    "        if node.right:\n",
    "            midOrder(node.right)\n",
    "def postOrder(node):\n",
    "    if node.data:\n",
    "        if node.left:\n",
    "            postOrder(node.left)\n",
    "        if node.right:\n",
    "            postOrder(node.right)\n",
    "        node.show()\n"
   ]
  },
  {
   "cell_type": "markdown",
   "metadata": {},
   "source": [
    "## 层序遍历\n",
    "* 层序遍历是每一层依次输出为list，是常见的二叉树题型"
   ]
  },
  {
   "cell_type": "code",
   "execution_count": 1,
   "metadata": {},
   "outputs": [],
   "source": [
    "def levelOrder(root):\n",
    "    \"\"\"\n",
    "    :type root: TreeNode\n",
    "    :rtype: List[List[int]]\n",
    "    \"\"\"\n",
    "    output = []\n",
    "    if not root:\n",
    "        return output\n",
    "    node_list = [root]\n",
    "\n",
    "    while node_list:\n",
    "        #result = []\n",
    "        for i in range(len(node_list)):\n",
    "            head_node = node_list.pop(0)\n",
    "\n",
    "            output.append(head_node.val)\n",
    "\n",
    "            if head_node.left:\n",
    "                node_list.append(head_node.left)\n",
    "            if head_node.right:\n",
    "                node_list.append(head_node.right)\n",
    "\n",
    "        #output.append(result)\n",
    "\n",
    "    return output"
   ]
  },
  {
   "cell_type": "markdown",
   "metadata": {},
   "source": [
    "## leetcode110——判断二叉树是不是平衡二叉树"
   ]
  },
  {
   "cell_type": "code",
   "execution_count": 2,
   "metadata": {},
   "outputs": [],
   "source": [
    "# Definition for a binary tree node.\n",
    "# class TreeNode(object):\n",
    "#     def __init__(self, x):\n",
    "#         self.val = x\n",
    "#         self.left = None\n",
    "#         self.right = None\n",
    "\n",
    "class Solution(object):\n",
    "    def height(self,root):\n",
    "        if not root.left and not root.right:\n",
    "            return 1\n",
    "        elif root.left == None and root.right != None:\n",
    "            return 1 + self.height(root.right)\n",
    "        elif root.left != None and root.right == None:\n",
    "            return 1 + self.height(root.left)\n",
    "        else:\n",
    "            return 1 + max(self.height(root.left),self.height(root.right))\n",
    "    def isBalanced(self, root):\n",
    "        \"\"\"\n",
    "        :type root: TreeNode\n",
    "        :rtype: bool\n",
    "        \"\"\"\n",
    "        if not root:\n",
    "            return True\n",
    "        if not root.left and not root.right:\n",
    "            return True\n",
    "        elif root.left == None and root.right != None:\n",
    "            if self.height(root.right) > 1:\n",
    "                return False\n",
    "            else:\n",
    "                return True\n",
    "        elif root.left != None and root.right == None:\n",
    "            if self.height(root.left) > 1:\n",
    "                return False     \n",
    "            else:\n",
    "                return True\n",
    "        else:\n",
    "            if abs(self.height(root.left)-self.height(root.right)) > 1:\n",
    "                return False\n",
    "            else:\n",
    "                return self.isBalanced(root.left) and self.isBalanced(root.right)\n"
   ]
  },
  {
   "cell_type": "code",
   "execution_count": 16,
   "metadata": {},
   "outputs": [],
   "source": [
    "left3 = right.insertLeft(\"h\")"
   ]
  },
  {
   "cell_type": "code",
   "execution_count": 17,
   "metadata": {},
   "outputs": [
    {
     "name": "stdout",
     "output_type": "stream",
     "text": [
      "d\n",
      "b\n",
      "h\n",
      "c\n",
      "a\n"
     ]
    }
   ],
   "source": [
    "postOrder(testnode)"
   ]
  },
  {
   "cell_type": "code",
   "execution_count": 3,
   "metadata": {},
   "outputs": [],
   "source": [
    "index = [(1,2),(2,3)]"
   ]
  },
  {
   "cell_type": "code",
   "execution_count": 4,
   "metadata": {},
   "outputs": [
    {
     "name": "stdout",
     "output_type": "stream",
     "text": [
      "1\n",
      "2\n",
      "2\n",
      "3\n"
     ]
    }
   ],
   "source": [
    "for i,j in index:\n",
    "    print(i)\n",
    "    print(j)"
   ]
  },
  {
   "cell_type": "code",
   "execution_count": 5,
   "metadata": {},
   "outputs": [],
   "source": [
    "import numpy as np"
   ]
  },
  {
   "cell_type": "code",
   "execution_count": 7,
   "metadata": {},
   "outputs": [
    {
     "data": {
      "text/plain": [
       "2.5"
      ]
     },
     "execution_count": 7,
     "metadata": {},
     "output_type": "execute_result"
    }
   ],
   "source": [
    "5/2"
   ]
  },
  {
   "cell_type": "code",
   "execution_count": 8,
   "metadata": {},
   "outputs": [
    {
     "name": "stdout",
     "output_type": "stream",
     "text": [
      "mother fuck\n"
     ]
    }
   ],
   "source": [
    "print(\"mother fuck\")"
   ]
  },
  {
   "cell_type": "code",
   "execution_count": 9,
   "metadata": {},
   "outputs": [
    {
     "ename": "NameError",
     "evalue": "name 'what' is not defined",
     "output_type": "error",
     "traceback": [
      "\u001b[1;31m---------------------------------------------------------------------------\u001b[0m",
      "\u001b[1;31mNameError\u001b[0m                                 Traceback (most recent call last)",
      "\u001b[1;32m<ipython-input-9-0d5797a34aa8>\u001b[0m in \u001b[0;36m<module>\u001b[1;34m\u001b[0m\n\u001b[1;32m----> 1\u001b[1;33m \u001b[0mwhat\u001b[0m \u001b[1;32mis\u001b[0m \u001b[0mhelllo\u001b[0m\u001b[1;33m\u001b[0m\u001b[1;33m\u001b[0m\u001b[0m\n\u001b[0m",
      "\u001b[1;31mNameError\u001b[0m: name 'what' is not defined"
     ]
    }
   ],
   "source": [
    "what is helllo"
   ]
  },
  {
   "cell_type": "code",
   "execution_count": null,
   "metadata": {},
   "outputs": [],
   "source": []
  }
 ],
 "metadata": {
  "kernelspec": {
   "display_name": "Python 3",
   "language": "python",
   "name": "python3"
  },
  "language_info": {
   "codemirror_mode": {
    "name": "ipython",
    "version": 3
   },
   "file_extension": ".py",
   "mimetype": "text/x-python",
   "name": "python",
   "nbconvert_exporter": "python",
   "pygments_lexer": "ipython3",
   "version": "3.7.6"
  }
 },
 "nbformat": 4,
 "nbformat_minor": 4
}
