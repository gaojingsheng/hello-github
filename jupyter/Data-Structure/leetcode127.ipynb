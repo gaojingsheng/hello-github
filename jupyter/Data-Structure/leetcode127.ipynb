{
 "cells": [
  {
   "cell_type": "code",
   "execution_count": 12,
   "metadata": {},
   "outputs": [
    {
     "name": "stdout",
     "output_type": "stream",
     "text": [
      "0\n"
     ]
    }
   ],
   "source": [
    "from typing import List\n",
    "from collections import deque\n",
    "\n",
    "\n",
    "class Solution:\n",
    "    def ladderLength(self, beginWord: str, endWord: str, wordList: List[str]) -> int:\n",
    "        word_set = set(wordList)\n",
    "        if len(word_set) == 0 or endWord not in word_set:\n",
    "            return 0\n",
    "\n",
    "        if beginWord in word_set:\n",
    "            word_set.remove(beginWord)\n",
    "\n",
    "        queue = deque()\n",
    "        queue.append(beginWord)\n",
    "\n",
    "        visited = set(beginWord)#创建一个不重复的元素集\n",
    "\n",
    "        word_len = len(beginWord)\n",
    "        step = 1\n",
    "        while queue:#当不为空的时候\n",
    "            current_size = len(queue)\n",
    "            for i in range(current_size):\n",
    "                word = queue.popleft()\n",
    "\n",
    "                word_list = list(word)#将字符串按照每个字母保存为列表\n",
    "                for j in range(word_len):\n",
    "                    origin_char = word_list[j]\n",
    "\n",
    "                    for k in range(26):\n",
    "                        word_list[j] = chr(ord('a') + k)#遍历和word接近的每一个字符\n",
    "                        next_word = ''.join(word_list)#将list合成一个word\n",
    "                        if next_word in word_set:\n",
    "                            if next_word == endWord:\n",
    "                                return step + 1\n",
    "                            if next_word not in visited:#访问过的\n",
    "                                queue.append(next_word)\n",
    "                                visited.add(next_word)\n",
    "                    word_list[j] = origin_char\n",
    "            step += 1\n",
    "        return 0\n",
    "\n",
    "\n",
    "if __name__ == '__main__':\n",
    "    beginWord = \"hit\"\n",
    "    endWord = \"cog\"\n",
    "    wordList = [\"hot\", \"dot\", \"dog\", \"lot\", \"log\"]\n",
    "    solution = Solution()\n",
    "    res = solution.ladderLength(beginWord, endWord, wordList)\n",
    "    print(res)\n"
   ]
  },
  {
   "cell_type": "code",
   "execution_count": 2,
   "metadata": {},
   "outputs": [
    {
     "ename": "TypeError",
     "evalue": "'int' object is not iterable",
     "output_type": "error",
     "traceback": [
      "\u001b[1;31m---------------------------------------------------------------------------\u001b[0m",
      "\u001b[1;31mTypeError\u001b[0m                                 Traceback (most recent call last)",
      "\u001b[1;32m<ipython-input-2-e3fb3ae6f6d5>\u001b[0m in \u001b[0;36m<module>\u001b[1;34m\u001b[0m\n\u001b[1;32m----> 1\u001b[1;33m \u001b[0ma\u001b[0m \u001b[1;33m=\u001b[0m \u001b[0mlist\u001b[0m\u001b[1;33m(\u001b[0m\u001b[1;36m1\u001b[0m\u001b[1;33m)\u001b[0m\u001b[1;33m\u001b[0m\u001b[1;33m\u001b[0m\u001b[0m\n\u001b[0m",
      "\u001b[1;31mTypeError\u001b[0m: 'int' object is not iterable"
     ]
    }
   ],
   "source": [
    "a = list(1)"
   ]
  },
  {
   "cell_type": "code",
   "execution_count": 3,
   "metadata": {},
   "outputs": [],
   "source": [
    "queue = deque()\n",
    "queue.append(\"gaojingsheng\")"
   ]
  },
  {
   "cell_type": "code",
   "execution_count": 6,
   "metadata": {},
   "outputs": [
    {
     "data": {
      "text/plain": [
       "'gaojingsheng'"
      ]
     },
     "execution_count": 6,
     "metadata": {},
     "output_type": "execute_result"
    }
   ],
   "source": [
    "word"
   ]
  },
  {
   "cell_type": "code",
   "execution_count": 7,
   "metadata": {},
   "outputs": [],
   "source": [
    "wordlist = list(word)"
   ]
  },
  {
   "cell_type": "code",
   "execution_count": 8,
   "metadata": {},
   "outputs": [
    {
     "data": {
      "text/plain": [
       "['g', 'a', 'o', 'j', 'i', 'n', 'g', 's', 'h', 'e', 'n', 'g']"
      ]
     },
     "execution_count": 8,
     "metadata": {},
     "output_type": "execute_result"
    }
   ],
   "source": [
    "wordlist"
   ]
  },
  {
   "cell_type": "code",
   "execution_count": 9,
   "metadata": {},
   "outputs": [],
   "source": [
    "a = \"hellopython\""
   ]
  },
  {
   "cell_type": "code",
   "execution_count": 10,
   "metadata": {},
   "outputs": [],
   "source": [
    "alist = list(a)"
   ]
  },
  {
   "cell_type": "code",
   "execution_count": 11,
   "metadata": {},
   "outputs": [
    {
     "data": {
      "text/plain": [
       "['h', 'e', 'l', 'l', 'o', 'p', 'y', 't', 'h', 'o', 'n']"
      ]
     },
     "execution_count": 11,
     "metadata": {},
     "output_type": "execute_result"
    }
   ],
   "source": [
    "alist"
   ]
  },
  {
   "cell_type": "code",
   "execution_count": null,
   "metadata": {},
   "outputs": [],
   "source": []
  }
 ],
 "metadata": {
  "kernelspec": {
   "display_name": "Python 3",
   "language": "python",
   "name": "python3"
  },
  "language_info": {
   "codemirror_mode": {
    "name": "ipython",
    "version": 3
   },
   "file_extension": ".py",
   "mimetype": "text/x-python",
   "name": "python",
   "nbconvert_exporter": "python",
   "pygments_lexer": "ipython3",
   "version": "3.7.6"
  }
 },
 "nbformat": 4,
 "nbformat_minor": 4
}
